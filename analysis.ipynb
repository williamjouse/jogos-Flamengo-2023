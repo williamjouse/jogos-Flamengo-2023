{
 "cells": [
  {
   "cell_type": "code",
   "execution_count": 1,
   "id": "ff88aee8",
   "metadata": {},
   "outputs": [],
   "source": [
    "import numpy as np\n",
    "import pandas as pd\n",
    "import matplotlib.pyplot as plt "
   ]
  },
  {
   "cell_type": "code",
   "execution_count": 2,
   "id": "ced36be8",
   "metadata": {},
   "outputs": [],
   "source": [
    "jogos = pd.read_csv('matches_FLA2023.csv', parse_dates=['kick-off'])\n",
    "gols = pd.read_csv('goal_scorers.csv')"
   ]
  },
  {
   "cell_type": "code",
   "execution_count": 3,
   "id": "a85c16c6",
   "metadata": {},
   "outputs": [
    {
     "data": {
      "text/html": [
       "<div>\n",
       "<style scoped>\n",
       "    .dataframe tbody tr th:only-of-type {\n",
       "        vertical-align: middle;\n",
       "    }\n",
       "\n",
       "    .dataframe tbody tr th {\n",
       "        vertical-align: top;\n",
       "    }\n",
       "\n",
       "    .dataframe thead th {\n",
       "        text-align: right;\n",
       "    }\n",
       "</style>\n",
       "<table border=\"1\" class=\"dataframe\">\n",
       "  <thead>\n",
       "    <tr style=\"text-align: right;\">\n",
       "      <th></th>\n",
       "      <th>id_match</th>\n",
       "      <th>home_team</th>\n",
       "      <th>away_team</th>\n",
       "      <th>home_score</th>\n",
       "      <th>away_score</th>\n",
       "      <th>tournament</th>\n",
       "      <th>kick-off</th>\n",
       "      <th>stadium</th>\n",
       "    </tr>\n",
       "  </thead>\n",
       "  <tbody>\n",
       "    <tr>\n",
       "      <th>0</th>\n",
       "      <td>CA1</td>\n",
       "      <td>Flamengo</td>\n",
       "      <td>Audax-RJ</td>\n",
       "      <td>1</td>\n",
       "      <td>0</td>\n",
       "      <td>Carioca - Taça Guanabara - Round 5</td>\n",
       "      <td>2023-01-12 21:30:00</td>\n",
       "      <td>Maracanã-RJ</td>\n",
       "    </tr>\n",
       "    <tr>\n",
       "      <th>1</th>\n",
       "      <td>CA2</td>\n",
       "      <td>Flamengo</td>\n",
       "      <td>Portuguesa-RJ</td>\n",
       "      <td>4</td>\n",
       "      <td>1</td>\n",
       "      <td>Carioca - Taça Guanabara - Round 1</td>\n",
       "      <td>2023-01-15 18:00:00</td>\n",
       "      <td>Maracanã-RJ</td>\n",
       "    </tr>\n",
       "    <tr>\n",
       "      <th>2</th>\n",
       "      <td>CA3</td>\n",
       "      <td>Madureira-RJ</td>\n",
       "      <td>Flamengo</td>\n",
       "      <td>0</td>\n",
       "      <td>0</td>\n",
       "      <td>Carioca - Taça Guanabara - Round 2</td>\n",
       "      <td>2023-01-18 19:00:00</td>\n",
       "      <td>Kléber Andrade-ES</td>\n",
       "    </tr>\n",
       "    <tr>\n",
       "      <th>3</th>\n",
       "      <td>CA4</td>\n",
       "      <td>Flamengo</td>\n",
       "      <td>Nova Iguaçu-RJ</td>\n",
       "      <td>5</td>\n",
       "      <td>0</td>\n",
       "      <td>Carioca - Taça Guanabara - Round 3</td>\n",
       "      <td>2023-01-21 16:00:00</td>\n",
       "      <td>Maracanã-RJ</td>\n",
       "    </tr>\n",
       "    <tr>\n",
       "      <th>4</th>\n",
       "      <td>CA5</td>\n",
       "      <td>Bangu-RJ</td>\n",
       "      <td>Flamengo</td>\n",
       "      <td>1</td>\n",
       "      <td>1</td>\n",
       "      <td>Carioca - Taça Guanabara - Round 4</td>\n",
       "      <td>2023-01-24 21:10:00</td>\n",
       "      <td>Raulino de Oliveira-RJ</td>\n",
       "    </tr>\n",
       "  </tbody>\n",
       "</table>\n",
       "</div>"
      ],
      "text/plain": [
       "  id_match     home_team       away_team  home_score  away_score  \\\n",
       "0      CA1      Flamengo        Audax-RJ           1           0   \n",
       "1      CA2      Flamengo   Portuguesa-RJ           4           1   \n",
       "2      CA3  Madureira-RJ        Flamengo           0           0   \n",
       "3      CA4      Flamengo  Nova Iguaçu-RJ           5           0   \n",
       "4      CA5      Bangu-RJ        Flamengo           1           1   \n",
       "\n",
       "                           tournament            kick-off  \\\n",
       "0  Carioca - Taça Guanabara - Round 5 2023-01-12 21:30:00   \n",
       "1  Carioca - Taça Guanabara - Round 1 2023-01-15 18:00:00   \n",
       "2  Carioca - Taça Guanabara - Round 2 2023-01-18 19:00:00   \n",
       "3  Carioca - Taça Guanabara - Round 3 2023-01-21 16:00:00   \n",
       "4  Carioca - Taça Guanabara - Round 4 2023-01-24 21:10:00   \n",
       "\n",
       "                  stadium  \n",
       "0             Maracanã-RJ  \n",
       "1             Maracanã-RJ  \n",
       "2       Kléber Andrade-ES  \n",
       "3             Maracanã-RJ  \n",
       "4  Raulino de Oliveira-RJ  "
      ]
     },
     "execution_count": 3,
     "metadata": {},
     "output_type": "execute_result"
    }
   ],
   "source": [
    "jogos.head()"
   ]
  },
  {
   "cell_type": "code",
   "execution_count": 4,
   "id": "3a58eda0",
   "metadata": {},
   "outputs": [
    {
     "data": {
      "text/html": [
       "<div>\n",
       "<style scoped>\n",
       "    .dataframe tbody tr th:only-of-type {\n",
       "        vertical-align: middle;\n",
       "    }\n",
       "\n",
       "    .dataframe tbody tr th {\n",
       "        vertical-align: top;\n",
       "    }\n",
       "\n",
       "    .dataframe thead th {\n",
       "        text-align: right;\n",
       "    }\n",
       "</style>\n",
       "<table border=\"1\" class=\"dataframe\">\n",
       "  <thead>\n",
       "    <tr style=\"text-align: right;\">\n",
       "      <th></th>\n",
       "      <th>id_match</th>\n",
       "      <th>gols</th>\n",
       "      <th>assist</th>\n",
       "    </tr>\n",
       "  </thead>\n",
       "  <tbody>\n",
       "    <tr>\n",
       "      <th>0</th>\n",
       "      <td>CA1</td>\n",
       "      <td>Matheus França</td>\n",
       "      <td>Thiaguinho</td>\n",
       "    </tr>\n",
       "    <tr>\n",
       "      <th>1</th>\n",
       "      <td>CA2</td>\n",
       "      <td>Pedro</td>\n",
       "      <td>Ayrton Lucas</td>\n",
       "    </tr>\n",
       "    <tr>\n",
       "      <th>2</th>\n",
       "      <td>CA2</td>\n",
       "      <td>Gabi</td>\n",
       "      <td>Pedro</td>\n",
       "    </tr>\n",
       "    <tr>\n",
       "      <th>3</th>\n",
       "      <td>CA2</td>\n",
       "      <td>Fabrício Bruno</td>\n",
       "      <td>Pedro</td>\n",
       "    </tr>\n",
       "    <tr>\n",
       "      <th>4</th>\n",
       "      <td>CA2</td>\n",
       "      <td>Thiago Maia</td>\n",
       "      <td>Matheuzinho</td>\n",
       "    </tr>\n",
       "  </tbody>\n",
       "</table>\n",
       "</div>"
      ],
      "text/plain": [
       "  id_match            gols        assist\n",
       "0      CA1  Matheus França    Thiaguinho\n",
       "1      CA2           Pedro  Ayrton Lucas\n",
       "2      CA2            Gabi         Pedro\n",
       "3      CA2  Fabrício Bruno         Pedro\n",
       "4      CA2     Thiago Maia   Matheuzinho"
      ]
     },
     "execution_count": 4,
     "metadata": {},
     "output_type": "execute_result"
    }
   ],
   "source": [
    "gols.head()"
   ]
  },
  {
   "cell_type": "code",
   "execution_count": 5,
   "id": "3105fbd2",
   "metadata": {},
   "outputs": [
    {
     "data": {
      "text/html": [
       "<div>\n",
       "<style scoped>\n",
       "    .dataframe tbody tr th:only-of-type {\n",
       "        vertical-align: middle;\n",
       "    }\n",
       "\n",
       "    .dataframe tbody tr th {\n",
       "        vertical-align: top;\n",
       "    }\n",
       "\n",
       "    .dataframe thead th {\n",
       "        text-align: right;\n",
       "    }\n",
       "</style>\n",
       "<table border=\"1\" class=\"dataframe\">\n",
       "  <thead>\n",
       "    <tr style=\"text-align: right;\">\n",
       "      <th></th>\n",
       "      <th>id_match</th>\n",
       "      <th>home_team</th>\n",
       "      <th>away_team</th>\n",
       "      <th>home_score</th>\n",
       "      <th>away_score</th>\n",
       "      <th>tournament</th>\n",
       "      <th>kick-off</th>\n",
       "      <th>stadium</th>\n",
       "      <th>gols</th>\n",
       "      <th>assist</th>\n",
       "    </tr>\n",
       "  </thead>\n",
       "  <tbody>\n",
       "    <tr>\n",
       "      <th>0</th>\n",
       "      <td>CA1</td>\n",
       "      <td>Flamengo</td>\n",
       "      <td>Audax-RJ</td>\n",
       "      <td>1</td>\n",
       "      <td>0</td>\n",
       "      <td>Carioca - Taça Guanabara - Round 5</td>\n",
       "      <td>2023-01-12 21:30:00</td>\n",
       "      <td>Maracanã-RJ</td>\n",
       "      <td>Matheus França</td>\n",
       "      <td>Thiaguinho</td>\n",
       "    </tr>\n",
       "    <tr>\n",
       "      <th>1</th>\n",
       "      <td>CA2</td>\n",
       "      <td>Flamengo</td>\n",
       "      <td>Portuguesa-RJ</td>\n",
       "      <td>4</td>\n",
       "      <td>1</td>\n",
       "      <td>Carioca - Taça Guanabara - Round 1</td>\n",
       "      <td>2023-01-15 18:00:00</td>\n",
       "      <td>Maracanã-RJ</td>\n",
       "      <td>Pedro</td>\n",
       "      <td>Ayrton Lucas</td>\n",
       "    </tr>\n",
       "    <tr>\n",
       "      <th>2</th>\n",
       "      <td>CA2</td>\n",
       "      <td>Flamengo</td>\n",
       "      <td>Portuguesa-RJ</td>\n",
       "      <td>4</td>\n",
       "      <td>1</td>\n",
       "      <td>Carioca - Taça Guanabara - Round 1</td>\n",
       "      <td>2023-01-15 18:00:00</td>\n",
       "      <td>Maracanã-RJ</td>\n",
       "      <td>Gabi</td>\n",
       "      <td>Pedro</td>\n",
       "    </tr>\n",
       "    <tr>\n",
       "      <th>3</th>\n",
       "      <td>CA2</td>\n",
       "      <td>Flamengo</td>\n",
       "      <td>Portuguesa-RJ</td>\n",
       "      <td>4</td>\n",
       "      <td>1</td>\n",
       "      <td>Carioca - Taça Guanabara - Round 1</td>\n",
       "      <td>2023-01-15 18:00:00</td>\n",
       "      <td>Maracanã-RJ</td>\n",
       "      <td>Fabrício Bruno</td>\n",
       "      <td>Pedro</td>\n",
       "    </tr>\n",
       "    <tr>\n",
       "      <th>4</th>\n",
       "      <td>CA2</td>\n",
       "      <td>Flamengo</td>\n",
       "      <td>Portuguesa-RJ</td>\n",
       "      <td>4</td>\n",
       "      <td>1</td>\n",
       "      <td>Carioca - Taça Guanabara - Round 1</td>\n",
       "      <td>2023-01-15 18:00:00</td>\n",
       "      <td>Maracanã-RJ</td>\n",
       "      <td>Thiago Maia</td>\n",
       "      <td>Matheuzinho</td>\n",
       "    </tr>\n",
       "  </tbody>\n",
       "</table>\n",
       "</div>"
      ],
      "text/plain": [
       "  id_match home_team      away_team  home_score  away_score  \\\n",
       "0      CA1  Flamengo       Audax-RJ           1           0   \n",
       "1      CA2  Flamengo  Portuguesa-RJ           4           1   \n",
       "2      CA2  Flamengo  Portuguesa-RJ           4           1   \n",
       "3      CA2  Flamengo  Portuguesa-RJ           4           1   \n",
       "4      CA2  Flamengo  Portuguesa-RJ           4           1   \n",
       "\n",
       "                           tournament            kick-off      stadium  \\\n",
       "0  Carioca - Taça Guanabara - Round 5 2023-01-12 21:30:00  Maracanã-RJ   \n",
       "1  Carioca - Taça Guanabara - Round 1 2023-01-15 18:00:00  Maracanã-RJ   \n",
       "2  Carioca - Taça Guanabara - Round 1 2023-01-15 18:00:00  Maracanã-RJ   \n",
       "3  Carioca - Taça Guanabara - Round 1 2023-01-15 18:00:00  Maracanã-RJ   \n",
       "4  Carioca - Taça Guanabara - Round 1 2023-01-15 18:00:00  Maracanã-RJ   \n",
       "\n",
       "             gols        assist  \n",
       "0  Matheus França    Thiaguinho  \n",
       "1           Pedro  Ayrton Lucas  \n",
       "2            Gabi         Pedro  \n",
       "3  Fabrício Bruno         Pedro  \n",
       "4     Thiago Maia   Matheuzinho  "
      ]
     },
     "execution_count": 5,
     "metadata": {},
     "output_type": "execute_result"
    }
   ],
   "source": [
    "df = pd.merge(jogos, gols, on = 'id_match')\n",
    "df.head()"
   ]
  },
  {
   "cell_type": "code",
   "execution_count": 6,
   "id": "79c9d036",
   "metadata": {},
   "outputs": [
    {
     "name": "stdout",
     "output_type": "stream",
     "text": [
      "| Jogador           |   Gols |\n",
      "|:------------------|-------:|\n",
      "| Pedro             |     15 |\n",
      "| Gabi              |     10 |\n",
      "| Ayrton Lucas      |      4 |\n",
      "| Fabrício Bruno    |      3 |\n",
      "| Matheus França    |      2 |\n",
      "| Matheus Gonçalves |      2 |\n",
      "| Arrascaeta        |      2 |\n",
      "| Thiago Maia       |      1 |\n",
      "| Lorran            |      1 |\n",
      "| André Luiz        |      1 |\n",
      "| Everton Cebolinha |      1 |\n"
     ]
    }
   ],
   "source": [
    "df_gols_counts = pd.DataFrame(df.gols.value_counts())\n",
    "df_gols_counts = df_gols_counts.reset_index()\n",
    "df_gols_counts.columns = ['Jogador', 'Gols'] \n",
    "print(df_gols_counts.to_markdown(index=False))"
   ]
  },
  {
   "cell_type": "code",
   "execution_count": 7,
   "id": "7fc73c50",
   "metadata": {},
   "outputs": [
    {
     "name": "stdout",
     "output_type": "stream",
     "text": [
      "| Jogador           |   Assistência |\n",
      "|:------------------|--------------:|\n",
      "| Matheuzinho       |             4 |\n",
      "| Everton Cebolinha |             4 |\n",
      "| Ayrton Lucas      |             3 |\n",
      "| Pedro             |             3 |\n",
      "| Arrascaeta        |             3 |\n",
      "| Mateusão          |             2 |\n",
      "| Everton Ribeiro   |             2 |\n",
      "| Gerson            |             2 |\n",
      "| Thiaguinho        |             1 |\n",
      "| Filipe Luis       |             1 |\n",
      "| Gabi              |             1 |\n",
      "| Marinho           |             1 |\n",
      "| Pablo             |             1 |\n",
      "| Victor Hugo       |             1 |\n"
     ]
    }
   ],
   "source": [
    "df_assist_counts = pd.DataFrame(df.assist.value_counts())\n",
    "df_assist_counts = df_assist_counts.reset_index()\n",
    "df_assist_counts.columns = ['Jogador', 'Assistência'] \n",
    "print(df_assist_counts.to_markdown(index=False))"
   ]
  },
  {
   "cell_type": "code",
   "execution_count": 8,
   "id": "fda8ce93",
   "metadata": {},
   "outputs": [
    {
     "name": "stdout",
     "output_type": "stream",
     "text": [
      "| Jogador           |   Assistência | Jogador           |   Gols |\n",
      "|:------------------|--------------:|:------------------|-------:|\n",
      "| Matheuzinho       |             4 | Pedro             |     15 |\n",
      "| Everton Cebolinha |             4 | Gabi              |     10 |\n",
      "| Ayrton Lucas      |             3 | Ayrton Lucas      |      4 |\n",
      "| Pedro             |             3 | Fabrício Bruno    |      3 |\n",
      "| Arrascaeta        |             3 | Matheus França    |      2 |\n",
      "| Mateusão          |             2 | Matheus Gonçalves |      2 |\n",
      "| Everton Ribeiro   |             2 | Arrascaeta        |      2 |\n",
      "| Gerson            |             2 | Thiago Maia       |      1 |\n",
      "| Thiaguinho        |             1 | Lorran            |      1 |\n",
      "| Filipe Luis       |             1 | André Luiz        |      1 |\n",
      "| Gabi              |             1 | Everton Cebolinha |      1 |\n",
      "| Marinho           |             1 | nan               |    nan |\n",
      "| Pablo             |             1 | nan               |    nan |\n",
      "| Victor Hugo       |             1 | nan               |    nan |\n"
     ]
    }
   ],
   "source": [
    "new_df = pd.concat([df_assist_counts, df_gols_counts], axis=1)\n",
    "\n",
    "print(new_df.to_markdown(index=False))"
   ]
  },
  {
   "cell_type": "code",
   "execution_count": 9,
   "id": "83098ccf",
   "metadata": {},
   "outputs": [],
   "source": [
    "vitorias_casa = jogos[(jogos['home_team'] == 'Flamengo') & (jogos['home_score'] > jogos['away_score'])]\n",
    "derrotas_casa = jogos[(jogos['home_team'] == 'Flamengo') & (jogos['home_score'] < jogos['away_score'])]\n",
    "\n",
    "vitorias_fora = jogos[(jogos['away_team'] == 'Flamengo') & (jogos['away_score'] > jogos['home_score'])]\n",
    "derrota_fora = jogos[(jogos['away_team'] == 'Flamengo') & (jogos['away_score'] < jogos['home_score'])]\n",
    "\n",
    "empate_casa = jogos[(jogos['home_team'] == 'Flamengo') & (jogos['away_score'] == jogos['home_score'])]\n",
    "empate_fora = jogos[(jogos['away_team'] == 'Flamengo') & (jogos['away_score'] == jogos['home_score'])]"
   ]
  },
  {
   "cell_type": "code",
   "execution_count": 10,
   "id": "b91892ff",
   "metadata": {},
   "outputs": [],
   "source": [
    "vitorias = vitorias_casa.shape[0] + vitorias_fora.shape[0]\n",
    "empates = empate_casa.shape[0] + empate_fora.shape[0]\n",
    "derrotas = derrotas_casa.shape[0] + derrota_fora.shape[0]\n",
    "total_jogos = vitorias + empates + derrotas"
   ]
  },
  {
   "cell_type": "code",
   "execution_count": 11,
   "id": "d69b7ece",
   "metadata": {},
   "outputs": [],
   "source": [
    "j_marcou_casa = jogos[(jogos['home_team'] == 'Flamengo') & (jogos['home_score'] > 0)]\n",
    "j_marcou_fora =  jogos[(jogos['away_team'] == 'Flamengo') & (jogos['away_score'] > 0)]\n",
    "\n",
    "jogou_marcou = j_marcou_casa.shape[0] + j_marcou_fora.shape[0]"
   ]
  },
  {
   "cell_type": "code",
   "execution_count": 12,
   "id": "7dfbbb2c",
   "metadata": {},
   "outputs": [],
   "source": [
    "j_sofreu_casa = jogos[(jogos['home_team'] == 'Flamengo') & (jogos['away_score'] > 0)]\n",
    "j_sofreu_fora =  jogos[(jogos['away_team'] == 'Flamengo') & (jogos['home_score'] > 0)]\n",
    "\n",
    "jogou_sofreu = j_sofreu_casa.shape[0] + j_sofreu_fora.shape[0]"
   ]
  },
  {
   "cell_type": "code",
   "execution_count": 13,
   "id": "4d5dd1fa",
   "metadata": {},
   "outputs": [],
   "source": [
    "gols_pro = vitorias_casa['home_score'].sum() + derrotas_casa['home_score'].sum() + vitorias_fora['away_score'].sum() + derrota_fora['away_score'].sum() + empate_casa['home_score'].sum() + empate_fora['away_score'].sum()\n",
    "gols_per_jogo = round(gols_pro/total_jogos,2)"
   ]
  },
  {
   "cell_type": "code",
   "execution_count": 14,
   "id": "152f7704",
   "metadata": {},
   "outputs": [],
   "source": [
    "gols_contra = vitorias_casa['away_score'].sum() + derrotas_casa['away_score'].sum() + vitorias_fora['home_score'].sum() + derrota_fora['home_score'].sum() + empate_casa['away_score'].sum() + empate_fora['home_score'].sum()\n",
    "gols_sofrido_jogo = round(gols_contra/total_jogos,2)"
   ]
  },
  {
   "cell_type": "code",
   "execution_count": 15,
   "id": "a801ea52",
   "metadata": {},
   "outputs": [],
   "source": [
    "saldo_gols = gols_pro - gols_contra"
   ]
  },
  {
   "cell_type": "code",
   "execution_count": 16,
   "id": "96df21cc",
   "metadata": {},
   "outputs": [],
   "source": [
    "aproveitamento = round((3*vitorias + 1*empates + 0*derrotas)/(3*total_jogos)*100,2)\n",
    "aproveitamento_pontos = (3*vitorias + 1*empates + 0*derrotas)"
   ]
  },
  {
   "cell_type": "code",
   "execution_count": 17,
   "id": "20e9ce5f",
   "metadata": {},
   "outputs": [
    {
     "name": "stdout",
     "output_type": "stream",
     "text": [
      "\n",
      "Jogos: 23\n",
      "Vitórias: 13\n",
      "Empates: 2\n",
      "Derrotas: 8 \n",
      "Gols pro: 42\n",
      "Gols contra: 27\n",
      "Saldo de gols: +15\n",
      "Gols/jogo: 1.83\n",
      "Gols sofridos/jogo: 1.17\n",
      "Jogos em que marcou: 19\n",
      "Jogos em que sofreu gol: 14 \n",
      "Aproveitamento: 59.42%\n",
      "Aproveitamento pontos: 41/69\n",
      "\n"
     ]
    }
   ],
   "source": [
    "print(\n",
    "\"\"\"\n",
    "Jogos: {0}\n",
    "Vitórias: {1}\n",
    "Empates: {2}\n",
    "Derrotas: {3} \n",
    "Gols pro: {4}\n",
    "Gols contra: {5}\n",
    "Saldo de gols: +{6}\n",
    "Gols/jogo: {7}\n",
    "Gols sofridos/jogo: {13}\n",
    "Jogos em que marcou: {8}\n",
    "Jogos em que sofreu gol: {9} \n",
    "Aproveitamento: {10}%\n",
    "Aproveitamento pontos: {11}/{12}\n",
    "\"\"\".format(total_jogos, vitorias, empates, derrotas, \n",
    "           gols_pro, gols_contra, saldo_gols, gols_per_jogo, jogou_marcou, \n",
    "           jogou_sofreu,aproveitamento,aproveitamento_pontos, 3*total_jogos,gols_sofrido_jogo) \n",
    "\n",
    "\n",
    ")"
   ]
  },
  {
   "cell_type": "code",
   "execution_count": 48,
   "id": "f2e46a5d",
   "metadata": {},
   "outputs": [
    {
     "data": {
      "text/plain": [
       "<matplotlib.legend.Legend at 0x14ad9fa63a0>"
      ]
     },
     "execution_count": 48,
     "metadata": {},
     "output_type": "execute_result"
    },
    {
     "data": {
      "image/png": "[encoded data removed]",
      "text/plain": [
       "<Figure size 640x480 with 1 Axes>"
      ]
     },
     "metadata": {},
     "output_type": "display_data"
    },
    {
     "data": {
      "image/png": "[encoded data removed]",
      "text/plain": [
       "<Figure size 640x480 with 1 Axes>"
      ]
     },
     "metadata": {},
     "output_type": "display_data"
    }
   ],
   "source": [
    "#j_marcou_casa[['home_score', 'kick-off']]\n",
    "#j_marcou_casa['kick-off'].dt.month_name()\n",
    "\n",
    "new_order = ['January', 'February', 'March', 'April']#, 'May', 'June', \n",
    "             #'July', 'August', 'September', 'October', 'November', 'December']\n",
    "\n",
    "gols_home = j_marcou_casa.groupby(j_marcou_casa['kick-off'].dt.month_name())['home_score'].sum().reindex(new_order, axis=0)\n",
    "gols_away = j_marcou_fora.groupby(j_marcou_fora['kick-off'].dt.month_name())['away_score'].sum().reindex(new_order, axis=0)\n",
    "\n",
    "sofridos_home = j_sofreu_casa.groupby(j_sofreu_casa['kick-off'].dt.month_name())['away_score'].sum().reindex(new_order, axis=0)\n",
    "sofridos_away = j_sofreu_fora.groupby(j_sofreu_fora['kick-off'].dt.month_name())['home_score'].sum().reindex(new_order, axis=0)\n",
    "labels = ['Janeiro', 'Fevereiro', 'Março', 'Abril']\n",
    "\n",
    "#fig, (ax1, ax2) = plt.subplots(2, 1, figsize=(15, 15), sharex=True)\n",
    "\n",
    "plt.figure(1)\n",
    "\n",
    "plt.plot(gols_home.fillna(0)+gols_away.fillna(0), label = 'Gols totais')\n",
    "plt.plot(gols_home.fillna(0), label = 'Gols em casa')\n",
    "plt.plot(gols_away.fillna(0), label = 'Gols fora')\n",
    "plt.ylabel('Gols')\n",
    "plt.xticks(gols_home.index, labels)\n",
    "plt.legend(bbox_to_anchor=(1.05, 1.0), loc='upper left')\n",
    " \n",
    "\n",
    "plt.figure(2)\n",
    "plt.plot(sofridos_home.fillna(0)+sofridos_away.fillna(0), label = 'Gols sofridos totais')\n",
    "plt.plot(sofridos_home.fillna(0), label = 'Gols sofridos em casa')\n",
    "plt.plot(sofridos_away.fillna(0), label = 'Gols sofridos fora')\n",
    "plt.ylabel('Gols')\n",
    "plt.xticks(gols_home.index, labels)\n",
    "plt.legend(bbox_to_anchor=(1.05, 1.0), loc='upper left')\n",
    "\n"
   ]
  },
  {
   "cell_type": "code",
   "execution_count": null,
   "id": "2f37d405",
   "metadata": {},
   "outputs": [],
   "source": []
  }
 ],
 "metadata": {
  "kernelspec": {
   "display_name": "Python 3 (ipykernel)",
   "language": "python",
   "name": "python3"
  },
  "language_info": {
   "codemirror_mode": {
    "name": "ipython",
    "version": 3
   },
   "file_extension": ".py",
   "mimetype": "text/x-python",
   "name": "python",
   "nbconvert_exporter": "python",
   "pygments_lexer": "ipython3",
   "version": "3.8.5"
  }
 },
 "nbformat": 4,
 "nbformat_minor": 5
}
